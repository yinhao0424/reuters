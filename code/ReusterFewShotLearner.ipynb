{
  "nbformat": 4,
  "nbformat_minor": 0,
  "metadata": {
    "colab": {
      "name": "ReusterFewShotLearner.ipynb",
      "provenance": [],
      "mount_file_id": "12iuMf0N6GVC0MpQZX7SL4xbQMibIED_Q",
      "authorship_tag": "ABX9TyMs94655aPn1nS2kVAvgSW0",
      "include_colab_link": true
    },
    "kernelspec": {
      "name": "python3",
      "display_name": "Python 3"
    },
    "accelerator": "GPU",
    "widgets": {
      "application/vnd.jupyter.widget-state+json": {
        "5f3ed3518433413cb1d99943a9d7c182": {
          "model_module": "@jupyter-widgets/controls",
          "model_name": "HBoxModel",
          "state": {
            "_view_name": "HBoxView",
            "_dom_classes": [],
            "_model_name": "HBoxModel",
            "_view_module": "@jupyter-widgets/controls",
            "_model_module_version": "1.5.0",
            "_view_count": null,
            "_view_module_version": "1.5.0",
            "box_style": "",
            "layout": "IPY_MODEL_89924d4a34434e61a11e64c56f59d952",
            "_model_module": "@jupyter-widgets/controls",
            "children": [
              "IPY_MODEL_8ec89e9814434c4a9943bd239765e2f7",
              "IPY_MODEL_a41523c4855c46b08fada8ce629fbe0e"
            ]
          }
        },
        "89924d4a34434e61a11e64c56f59d952": {
          "model_module": "@jupyter-widgets/base",
          "model_name": "LayoutModel",
          "state": {
            "_view_name": "LayoutView",
            "grid_template_rows": null,
            "right": null,
            "justify_content": null,
            "_view_module": "@jupyter-widgets/base",
            "overflow": null,
            "_model_module_version": "1.2.0",
            "_view_count": null,
            "flex_flow": null,
            "width": null,
            "min_width": null,
            "border": null,
            "align_items": null,
            "bottom": null,
            "_model_module": "@jupyter-widgets/base",
            "top": null,
            "grid_column": null,
            "overflow_y": null,
            "overflow_x": null,
            "grid_auto_flow": null,
            "grid_area": null,
            "grid_template_columns": null,
            "flex": null,
            "_model_name": "LayoutModel",
            "justify_items": null,
            "grid_row": null,
            "max_height": null,
            "align_content": null,
            "visibility": null,
            "align_self": null,
            "height": null,
            "min_height": null,
            "padding": null,
            "grid_auto_rows": null,
            "grid_gap": null,
            "max_width": null,
            "order": null,
            "_view_module_version": "1.2.0",
            "grid_template_areas": null,
            "object_position": null,
            "object_fit": null,
            "grid_auto_columns": null,
            "margin": null,
            "display": null,
            "left": null
          }
        },
        "8ec89e9814434c4a9943bd239765e2f7": {
          "model_module": "@jupyter-widgets/controls",
          "model_name": "FloatProgressModel",
          "state": {
            "_view_name": "ProgressView",
            "style": "IPY_MODEL_a356fb62bc0747c1976979cf705056cc",
            "_dom_classes": [],
            "description": "Downloading: 100%",
            "_model_name": "FloatProgressModel",
            "bar_style": "success",
            "max": 231508,
            "_view_module": "@jupyter-widgets/controls",
            "_model_module_version": "1.5.0",
            "value": 231508,
            "_view_count": null,
            "_view_module_version": "1.5.0",
            "orientation": "horizontal",
            "min": 0,
            "description_tooltip": null,
            "_model_module": "@jupyter-widgets/controls",
            "layout": "IPY_MODEL_fa860a590bf041b290dc74c35e1c8b32"
          }
        },
        "a41523c4855c46b08fada8ce629fbe0e": {
          "model_module": "@jupyter-widgets/controls",
          "model_name": "HTMLModel",
          "state": {
            "_view_name": "HTMLView",
            "style": "IPY_MODEL_732329600dd44fb282ff4142de659057",
            "_dom_classes": [],
            "description": "",
            "_model_name": "HTMLModel",
            "placeholder": "​",
            "_view_module": "@jupyter-widgets/controls",
            "_model_module_version": "1.5.0",
            "value": " 232k/232k [00:00&lt;00:00, 736kB/s]",
            "_view_count": null,
            "_view_module_version": "1.5.0",
            "description_tooltip": null,
            "_model_module": "@jupyter-widgets/controls",
            "layout": "IPY_MODEL_9e66b846b06e437cb625ad1b69dbb50d"
          }
        },
        "a356fb62bc0747c1976979cf705056cc": {
          "model_module": "@jupyter-widgets/controls",
          "model_name": "ProgressStyleModel",
          "state": {
            "_view_name": "StyleView",
            "_model_name": "ProgressStyleModel",
            "description_width": "initial",
            "_view_module": "@jupyter-widgets/base",
            "_model_module_version": "1.5.0",
            "_view_count": null,
            "_view_module_version": "1.2.0",
            "bar_color": null,
            "_model_module": "@jupyter-widgets/controls"
          }
        },
        "fa860a590bf041b290dc74c35e1c8b32": {
          "model_module": "@jupyter-widgets/base",
          "model_name": "LayoutModel",
          "state": {
            "_view_name": "LayoutView",
            "grid_template_rows": null,
            "right": null,
            "justify_content": null,
            "_view_module": "@jupyter-widgets/base",
            "overflow": null,
            "_model_module_version": "1.2.0",
            "_view_count": null,
            "flex_flow": null,
            "width": null,
            "min_width": null,
            "border": null,
            "align_items": null,
            "bottom": null,
            "_model_module": "@jupyter-widgets/base",
            "top": null,
            "grid_column": null,
            "overflow_y": null,
            "overflow_x": null,
            "grid_auto_flow": null,
            "grid_area": null,
            "grid_template_columns": null,
            "flex": null,
            "_model_name": "LayoutModel",
            "justify_items": null,
            "grid_row": null,
            "max_height": null,
            "align_content": null,
            "visibility": null,
            "align_self": null,
            "height": null,
            "min_height": null,
            "padding": null,
            "grid_auto_rows": null,
            "grid_gap": null,
            "max_width": null,
            "order": null,
            "_view_module_version": "1.2.0",
            "grid_template_areas": null,
            "object_position": null,
            "object_fit": null,
            "grid_auto_columns": null,
            "margin": null,
            "display": null,
            "left": null
          }
        },
        "732329600dd44fb282ff4142de659057": {
          "model_module": "@jupyter-widgets/controls",
          "model_name": "DescriptionStyleModel",
          "state": {
            "_view_name": "StyleView",
            "_model_name": "DescriptionStyleModel",
            "description_width": "",
            "_view_module": "@jupyter-widgets/base",
            "_model_module_version": "1.5.0",
            "_view_count": null,
            "_view_module_version": "1.2.0",
            "_model_module": "@jupyter-widgets/controls"
          }
        },
        "9e66b846b06e437cb625ad1b69dbb50d": {
          "model_module": "@jupyter-widgets/base",
          "model_name": "LayoutModel",
          "state": {
            "_view_name": "LayoutView",
            "grid_template_rows": null,
            "right": null,
            "justify_content": null,
            "_view_module": "@jupyter-widgets/base",
            "overflow": null,
            "_model_module_version": "1.2.0",
            "_view_count": null,
            "flex_flow": null,
            "width": null,
            "min_width": null,
            "border": null,
            "align_items": null,
            "bottom": null,
            "_model_module": "@jupyter-widgets/base",
            "top": null,
            "grid_column": null,
            "overflow_y": null,
            "overflow_x": null,
            "grid_auto_flow": null,
            "grid_area": null,
            "grid_template_columns": null,
            "flex": null,
            "_model_name": "LayoutModel",
            "justify_items": null,
            "grid_row": null,
            "max_height": null,
            "align_content": null,
            "visibility": null,
            "align_self": null,
            "height": null,
            "min_height": null,
            "padding": null,
            "grid_auto_rows": null,
            "grid_gap": null,
            "max_width": null,
            "order": null,
            "_view_module_version": "1.2.0",
            "grid_template_areas": null,
            "object_position": null,
            "object_fit": null,
            "grid_auto_columns": null,
            "margin": null,
            "display": null,
            "left": null
          }
        },
        "f629431f686542c196d4889b94ac0742": {
          "model_module": "@jupyter-widgets/controls",
          "model_name": "HBoxModel",
          "state": {
            "_view_name": "HBoxView",
            "_dom_classes": [],
            "_model_name": "HBoxModel",
            "_view_module": "@jupyter-widgets/controls",
            "_model_module_version": "1.5.0",
            "_view_count": null,
            "_view_module_version": "1.5.0",
            "box_style": "",
            "layout": "IPY_MODEL_ba354ced6c04405083b185d6f6ad5552",
            "_model_module": "@jupyter-widgets/controls",
            "children": [
              "IPY_MODEL_e1f3bfcdd19f4f6ab39f592b5567110e",
              "IPY_MODEL_8117acfd10a749f38e6762c47609f5b7"
            ]
          }
        },
        "ba354ced6c04405083b185d6f6ad5552": {
          "model_module": "@jupyter-widgets/base",
          "model_name": "LayoutModel",
          "state": {
            "_view_name": "LayoutView",
            "grid_template_rows": null,
            "right": null,
            "justify_content": null,
            "_view_module": "@jupyter-widgets/base",
            "overflow": null,
            "_model_module_version": "1.2.0",
            "_view_count": null,
            "flex_flow": null,
            "width": null,
            "min_width": null,
            "border": null,
            "align_items": null,
            "bottom": null,
            "_model_module": "@jupyter-widgets/base",
            "top": null,
            "grid_column": null,
            "overflow_y": null,
            "overflow_x": null,
            "grid_auto_flow": null,
            "grid_area": null,
            "grid_template_columns": null,
            "flex": null,
            "_model_name": "LayoutModel",
            "justify_items": null,
            "grid_row": null,
            "max_height": null,
            "align_content": null,
            "visibility": null,
            "align_self": null,
            "height": null,
            "min_height": null,
            "padding": null,
            "grid_auto_rows": null,
            "grid_gap": null,
            "max_width": null,
            "order": null,
            "_view_module_version": "1.2.0",
            "grid_template_areas": null,
            "object_position": null,
            "object_fit": null,
            "grid_auto_columns": null,
            "margin": null,
            "display": null,
            "left": null
          }
        },
        "e1f3bfcdd19f4f6ab39f592b5567110e": {
          "model_module": "@jupyter-widgets/controls",
          "model_name": "FloatProgressModel",
          "state": {
            "_view_name": "ProgressView",
            "style": "IPY_MODEL_9f7e249ad46342129619a07cf8c74bb5",
            "_dom_classes": [],
            "description": "Downloading: 100%",
            "_model_name": "FloatProgressModel",
            "bar_style": "success",
            "max": 442,
            "_view_module": "@jupyter-widgets/controls",
            "_model_module_version": "1.5.0",
            "value": 442,
            "_view_count": null,
            "_view_module_version": "1.5.0",
            "orientation": "horizontal",
            "min": 0,
            "description_tooltip": null,
            "_model_module": "@jupyter-widgets/controls",
            "layout": "IPY_MODEL_f0aab03d1ec8463d89e1f3a15dd7a101"
          }
        },
        "8117acfd10a749f38e6762c47609f5b7": {
          "model_module": "@jupyter-widgets/controls",
          "model_name": "HTMLModel",
          "state": {
            "_view_name": "HTMLView",
            "style": "IPY_MODEL_fada3913cd4b4d5fb844dffd6c270047",
            "_dom_classes": [],
            "description": "",
            "_model_name": "HTMLModel",
            "placeholder": "​",
            "_view_module": "@jupyter-widgets/controls",
            "_model_module_version": "1.5.0",
            "value": " 442/442 [01:12&lt;00:00, 6.09B/s]",
            "_view_count": null,
            "_view_module_version": "1.5.0",
            "description_tooltip": null,
            "_model_module": "@jupyter-widgets/controls",
            "layout": "IPY_MODEL_cd43710349d7472886655ff65f594e55"
          }
        },
        "9f7e249ad46342129619a07cf8c74bb5": {
          "model_module": "@jupyter-widgets/controls",
          "model_name": "ProgressStyleModel",
          "state": {
            "_view_name": "StyleView",
            "_model_name": "ProgressStyleModel",
            "description_width": "initial",
            "_view_module": "@jupyter-widgets/base",
            "_model_module_version": "1.5.0",
            "_view_count": null,
            "_view_module_version": "1.2.0",
            "bar_color": null,
            "_model_module": "@jupyter-widgets/controls"
          }
        },
        "f0aab03d1ec8463d89e1f3a15dd7a101": {
          "model_module": "@jupyter-widgets/base",
          "model_name": "LayoutModel",
          "state": {
            "_view_name": "LayoutView",
            "grid_template_rows": null,
            "right": null,
            "justify_content": null,
            "_view_module": "@jupyter-widgets/base",
            "overflow": null,
            "_model_module_version": "1.2.0",
            "_view_count": null,
            "flex_flow": null,
            "width": null,
            "min_width": null,
            "border": null,
            "align_items": null,
            "bottom": null,
            "_model_module": "@jupyter-widgets/base",
            "top": null,
            "grid_column": null,
            "overflow_y": null,
            "overflow_x": null,
            "grid_auto_flow": null,
            "grid_area": null,
            "grid_template_columns": null,
            "flex": null,
            "_model_name": "LayoutModel",
            "justify_items": null,
            "grid_row": null,
            "max_height": null,
            "align_content": null,
            "visibility": null,
            "align_self": null,
            "height": null,
            "min_height": null,
            "padding": null,
            "grid_auto_rows": null,
            "grid_gap": null,
            "max_width": null,
            "order": null,
            "_view_module_version": "1.2.0",
            "grid_template_areas": null,
            "object_position": null,
            "object_fit": null,
            "grid_auto_columns": null,
            "margin": null,
            "display": null,
            "left": null
          }
        },
        "fada3913cd4b4d5fb844dffd6c270047": {
          "model_module": "@jupyter-widgets/controls",
          "model_name": "DescriptionStyleModel",
          "state": {
            "_view_name": "StyleView",
            "_model_name": "DescriptionStyleModel",
            "description_width": "",
            "_view_module": "@jupyter-widgets/base",
            "_model_module_version": "1.5.0",
            "_view_count": null,
            "_view_module_version": "1.2.0",
            "_model_module": "@jupyter-widgets/controls"
          }
        },
        "cd43710349d7472886655ff65f594e55": {
          "model_module": "@jupyter-widgets/base",
          "model_name": "LayoutModel",
          "state": {
            "_view_name": "LayoutView",
            "grid_template_rows": null,
            "right": null,
            "justify_content": null,
            "_view_module": "@jupyter-widgets/base",
            "overflow": null,
            "_model_module_version": "1.2.0",
            "_view_count": null,
            "flex_flow": null,
            "width": null,
            "min_width": null,
            "border": null,
            "align_items": null,
            "bottom": null,
            "_model_module": "@jupyter-widgets/base",
            "top": null,
            "grid_column": null,
            "overflow_y": null,
            "overflow_x": null,
            "grid_auto_flow": null,
            "grid_area": null,
            "grid_template_columns": null,
            "flex": null,
            "_model_name": "LayoutModel",
            "justify_items": null,
            "grid_row": null,
            "max_height": null,
            "align_content": null,
            "visibility": null,
            "align_self": null,
            "height": null,
            "min_height": null,
            "padding": null,
            "grid_auto_rows": null,
            "grid_gap": null,
            "max_width": null,
            "order": null,
            "_view_module_version": "1.2.0",
            "grid_template_areas": null,
            "object_position": null,
            "object_fit": null,
            "grid_auto_columns": null,
            "margin": null,
            "display": null,
            "left": null
          }
        },
        "0572c9c07bd3403583aae6cc0387e9f4": {
          "model_module": "@jupyter-widgets/controls",
          "model_name": "HBoxModel",
          "state": {
            "_view_name": "HBoxView",
            "_dom_classes": [],
            "_model_name": "HBoxModel",
            "_view_module": "@jupyter-widgets/controls",
            "_model_module_version": "1.5.0",
            "_view_count": null,
            "_view_module_version": "1.5.0",
            "box_style": "",
            "layout": "IPY_MODEL_c9a84710bb7f4b35b4dda82c7ee02f96",
            "_model_module": "@jupyter-widgets/controls",
            "children": [
              "IPY_MODEL_7d9b8d3b6272459082c3e64eef389ab1",
              "IPY_MODEL_a3b9ca57fcb84288829ebf0c02acdf0f"
            ]
          }
        },
        "c9a84710bb7f4b35b4dda82c7ee02f96": {
          "model_module": "@jupyter-widgets/base",
          "model_name": "LayoutModel",
          "state": {
            "_view_name": "LayoutView",
            "grid_template_rows": null,
            "right": null,
            "justify_content": null,
            "_view_module": "@jupyter-widgets/base",
            "overflow": null,
            "_model_module_version": "1.2.0",
            "_view_count": null,
            "flex_flow": null,
            "width": null,
            "min_width": null,
            "border": null,
            "align_items": null,
            "bottom": null,
            "_model_module": "@jupyter-widgets/base",
            "top": null,
            "grid_column": null,
            "overflow_y": null,
            "overflow_x": null,
            "grid_auto_flow": null,
            "grid_area": null,
            "grid_template_columns": null,
            "flex": null,
            "_model_name": "LayoutModel",
            "justify_items": null,
            "grid_row": null,
            "max_height": null,
            "align_content": null,
            "visibility": null,
            "align_self": null,
            "height": null,
            "min_height": null,
            "padding": null,
            "grid_auto_rows": null,
            "grid_gap": null,
            "max_width": null,
            "order": null,
            "_view_module_version": "1.2.0",
            "grid_template_areas": null,
            "object_position": null,
            "object_fit": null,
            "grid_auto_columns": null,
            "margin": null,
            "display": null,
            "left": null
          }
        },
        "7d9b8d3b6272459082c3e64eef389ab1": {
          "model_module": "@jupyter-widgets/controls",
          "model_name": "FloatProgressModel",
          "state": {
            "_view_name": "ProgressView",
            "style": "IPY_MODEL_97a8ab81deb840f3b5e9506ccf41d90f",
            "_dom_classes": [],
            "description": "Downloading: 100%",
            "_model_name": "FloatProgressModel",
            "bar_style": "success",
            "max": 267967963,
            "_view_module": "@jupyter-widgets/controls",
            "_model_module_version": "1.5.0",
            "value": 267967963,
            "_view_count": null,
            "_view_module_version": "1.5.0",
            "orientation": "horizontal",
            "min": 0,
            "description_tooltip": null,
            "_model_module": "@jupyter-widgets/controls",
            "layout": "IPY_MODEL_0ddd68f2de4246e198486da29e29049f"
          }
        },
        "a3b9ca57fcb84288829ebf0c02acdf0f": {
          "model_module": "@jupyter-widgets/controls",
          "model_name": "HTMLModel",
          "state": {
            "_view_name": "HTMLView",
            "style": "IPY_MODEL_59ed8de867c04aa9bbf7da448f28ec20",
            "_dom_classes": [],
            "description": "",
            "_model_name": "HTMLModel",
            "placeholder": "​",
            "_view_module": "@jupyter-widgets/controls",
            "_model_module_version": "1.5.0",
            "value": " 268M/268M [00:26&lt;00:00, 10.2MB/s]",
            "_view_count": null,
            "_view_module_version": "1.5.0",
            "description_tooltip": null,
            "_model_module": "@jupyter-widgets/controls",
            "layout": "IPY_MODEL_a11c82df67f74ddc9805e5841d3d39f9"
          }
        },
        "97a8ab81deb840f3b5e9506ccf41d90f": {
          "model_module": "@jupyter-widgets/controls",
          "model_name": "ProgressStyleModel",
          "state": {
            "_view_name": "StyleView",
            "_model_name": "ProgressStyleModel",
            "description_width": "initial",
            "_view_module": "@jupyter-widgets/base",
            "_model_module_version": "1.5.0",
            "_view_count": null,
            "_view_module_version": "1.2.0",
            "bar_color": null,
            "_model_module": "@jupyter-widgets/controls"
          }
        },
        "0ddd68f2de4246e198486da29e29049f": {
          "model_module": "@jupyter-widgets/base",
          "model_name": "LayoutModel",
          "state": {
            "_view_name": "LayoutView",
            "grid_template_rows": null,
            "right": null,
            "justify_content": null,
            "_view_module": "@jupyter-widgets/base",
            "overflow": null,
            "_model_module_version": "1.2.0",
            "_view_count": null,
            "flex_flow": null,
            "width": null,
            "min_width": null,
            "border": null,
            "align_items": null,
            "bottom": null,
            "_model_module": "@jupyter-widgets/base",
            "top": null,
            "grid_column": null,
            "overflow_y": null,
            "overflow_x": null,
            "grid_auto_flow": null,
            "grid_area": null,
            "grid_template_columns": null,
            "flex": null,
            "_model_name": "LayoutModel",
            "justify_items": null,
            "grid_row": null,
            "max_height": null,
            "align_content": null,
            "visibility": null,
            "align_self": null,
            "height": null,
            "min_height": null,
            "padding": null,
            "grid_auto_rows": null,
            "grid_gap": null,
            "max_width": null,
            "order": null,
            "_view_module_version": "1.2.0",
            "grid_template_areas": null,
            "object_position": null,
            "object_fit": null,
            "grid_auto_columns": null,
            "margin": null,
            "display": null,
            "left": null
          }
        },
        "59ed8de867c04aa9bbf7da448f28ec20": {
          "model_module": "@jupyter-widgets/controls",
          "model_name": "DescriptionStyleModel",
          "state": {
            "_view_name": "StyleView",
            "_model_name": "DescriptionStyleModel",
            "description_width": "",
            "_view_module": "@jupyter-widgets/base",
            "_model_module_version": "1.5.0",
            "_view_count": null,
            "_view_module_version": "1.2.0",
            "_model_module": "@jupyter-widgets/controls"
          }
        },
        "a11c82df67f74ddc9805e5841d3d39f9": {
          "model_module": "@jupyter-widgets/base",
          "model_name": "LayoutModel",
          "state": {
            "_view_name": "LayoutView",
            "grid_template_rows": null,
            "right": null,
            "justify_content": null,
            "_view_module": "@jupyter-widgets/base",
            "overflow": null,
            "_model_module_version": "1.2.0",
            "_view_count": null,
            "flex_flow": null,
            "width": null,
            "min_width": null,
            "border": null,
            "align_items": null,
            "bottom": null,
            "_model_module": "@jupyter-widgets/base",
            "top": null,
            "grid_column": null,
            "overflow_y": null,
            "overflow_x": null,
            "grid_auto_flow": null,
            "grid_area": null,
            "grid_template_columns": null,
            "flex": null,
            "_model_name": "LayoutModel",
            "justify_items": null,
            "grid_row": null,
            "max_height": null,
            "align_content": null,
            "visibility": null,
            "align_self": null,
            "height": null,
            "min_height": null,
            "padding": null,
            "grid_auto_rows": null,
            "grid_gap": null,
            "max_width": null,
            "order": null,
            "_view_module_version": "1.2.0",
            "grid_template_areas": null,
            "object_position": null,
            "object_fit": null,
            "grid_auto_columns": null,
            "margin": null,
            "display": null,
            "left": null
          }
        }
      }
    }
  },
  "cells": [
    {
      "cell_type": "markdown",
      "metadata": {
        "id": "view-in-github",
        "colab_type": "text"
      },
      "source": [
        "<a href=\"https://colab.research.google.com/github/yinhao0424/reuters/blob/master/ReusterFewShotLearner.ipynb\" target=\"_parent\"><img src=\"https://colab.research.google.com/assets/colab-badge.svg\" alt=\"Open In Colab\"/></a>"
      ]
    },
    {
      "cell_type": "code",
      "metadata": {
        "id": "oP9AC1odsdGc"
      },
      "source": [
        ""
      ],
      "execution_count": null,
      "outputs": []
    },
    {
      "cell_type": "markdown",
      "metadata": {
        "id": "O0Zyb--bsmwv"
      },
      "source": [
        "## One Shot Learner\n",
        "By building a pooling layer on top of the BERT model, the sentence embedding has been generated by the model. The next steps will be\n",
        "- Train a classifier on support set\n",
        "- Predict based on the classifier\n",
        "***\n",
        "1/6/2021  \n",
        "Test the model performance\n",
        "- Test without Finetuning\n",
        "  - store the embedding of support set\n",
        "  - caculate the embedding of query\n",
        "  - find the sample with the highest similarity score\n",
        "- Finetuning"
      ]
    },
    {
      "cell_type": "code",
      "metadata": {
        "id": "wN02pjDzvWf2",
        "colab": {
          "base_uri": "https://localhost:8080/"
        },
        "outputId": "19384327-b2dd-491b-bc2d-d06297df6a34"
      },
      "source": [
        "# a specific version of transformaer has been used \n",
        "! pip install -q transformers==3.0.2\n",
        "# !pip install -q transformers"
      ],
      "execution_count": 1,
      "outputs": [
        {
          "output_type": "stream",
          "text": [
            "\u001b[K     |████████████████████████████████| 778kB 8.0MB/s \n",
            "\u001b[K     |████████████████████████████████| 1.2MB 11.7MB/s \n",
            "\u001b[K     |████████████████████████████████| 3.0MB 31.1MB/s \n",
            "\u001b[K     |████████████████████████████████| 890kB 59.9MB/s \n",
            "\u001b[?25h  Building wheel for sacremoses (setup.py) ... \u001b[?25l\u001b[?25hdone\n"
          ],
          "name": "stdout"
        }
      ]
    },
    {
      "cell_type": "code",
      "metadata": {
        "id": "se2Jfb84vMpd"
      },
      "source": [
        "import numpy as np\n",
        "import pandas as pd\n",
        "from sklearn import metrics\n",
        "from tqdm import tqdm\n",
        "\n",
        "import matplotlib.pyplot as plt\n",
        "import seaborn as sns\n",
        "%matplotlib inline\n",
        "\n",
        "import torch.nn.functional as F\n",
        "\n",
        "import transformers\n",
        "import torch\n",
        "from torch import nn\n",
        "from torch.utils.data import Dataset, DataLoader, RandomSampler, SequentialSampler\n",
        "from transformers import DistilBertTokenizer, DistilBertModel\n",
        "\n",
        "import warnings\n",
        "warnings.simplefilter('ignore')\n",
        "import logging\n",
        "logging.basicConfig(level=logging.ERROR)"
      ],
      "execution_count": 2,
      "outputs": []
    },
    {
      "cell_type": "code",
      "metadata": {
        "colab": {
          "base_uri": "https://localhost:8080/"
        },
        "id": "nvf-b8OwvMs2",
        "outputId": "0227bddd-9399-4557-df8f-534f449c5e14"
      },
      "source": [
        "if torch.cuda.is_available():\n",
        "  device = torch.device(\"cuda\")\n",
        "else:\n",
        "  device = torch.device(\"cpu\")\n",
        "device"
      ],
      "execution_count": 3,
      "outputs": [
        {
          "output_type": "execute_result",
          "data": {
            "text/plain": [
              "device(type='cuda')"
            ]
          },
          "metadata": {
            "tags": []
          },
          "execution_count": 3
        }
      ]
    },
    {
      "cell_type": "code",
      "metadata": {
        "id": "gCnlE0X5vfvZ",
        "colab": {
          "base_uri": "https://localhost:8080/",
          "height": 66,
          "referenced_widgets": [
            "5f3ed3518433413cb1d99943a9d7c182",
            "89924d4a34434e61a11e64c56f59d952",
            "8ec89e9814434c4a9943bd239765e2f7",
            "a41523c4855c46b08fada8ce629fbe0e",
            "a356fb62bc0747c1976979cf705056cc",
            "fa860a590bf041b290dc74c35e1c8b32",
            "732329600dd44fb282ff4142de659057",
            "9e66b846b06e437cb625ad1b69dbb50d"
          ]
        },
        "outputId": "33a26441-133a-4815-9262-e07f3315b30e"
      },
      "source": [
        "MAX_LEN = 256\n",
        "EPOCHS = 2\n",
        "LEARNING_RATE = 1e-05\n",
        "tokenizer = DistilBertTokenizer.from_pretrained('distilbert-base-uncased', truncation=True, do_lower_case=True)\n"
      ],
      "execution_count": 4,
      "outputs": [
        {
          "output_type": "display_data",
          "data": {
            "application/vnd.jupyter.widget-view+json": {
              "model_id": "5f3ed3518433413cb1d99943a9d7c182",
              "version_minor": 0,
              "version_major": 2
            },
            "text/plain": [
              "HBox(children=(FloatProgress(value=0.0, description='Downloading', max=231508.0, style=ProgressStyle(descripti…"
            ]
          },
          "metadata": {
            "tags": []
          }
        },
        {
          "output_type": "stream",
          "text": [
            "\n"
          ],
          "name": "stdout"
        }
      ]
    },
    {
      "cell_type": "code",
      "metadata": {
        "id": "gbKtOr3YvMyi"
      },
      "source": [
        "class DistilBERTClass(torch.nn.Module):\n",
        "    def __init__(self):\n",
        "        super(DistilBERTClass, self).__init__()\n",
        "        self.l1 = DistilBertModel.from_pretrained(\"distilbert-base-uncased\")\n",
        "        self.pre_classifier = torch.nn.Linear(768, 768)\n",
        "        self.dropout = torch.nn.Dropout(0.1)\n",
        "        self.classifier = torch.nn.Linear(768, 256)\n",
        "\n",
        "    def forward(self, data):\n",
        "        input_ids = data['ids']\n",
        "        attention_mask = data['mask']\n",
        "\n",
        "        output_1 = self.l1(input_ids=input_ids, attention_mask=attention_mask)\n",
        "        hidden_state = output_1[0]\n",
        "        pooler = hidden_state[:, 0]\n",
        "        pooler = self.pre_classifier(pooler)\n",
        "        pooler = torch.nn.Tanh()(pooler)\n",
        "        pooler = self.dropout(pooler)\n",
        "        output = self.classifier(pooler)\n",
        "        return output"
      ],
      "execution_count": 5,
      "outputs": []
    },
    {
      "cell_type": "code",
      "metadata": {
        "colab": {
          "base_uri": "https://localhost:8080/",
          "height": 1000,
          "referenced_widgets": [
            "f629431f686542c196d4889b94ac0742",
            "ba354ced6c04405083b185d6f6ad5552",
            "e1f3bfcdd19f4f6ab39f592b5567110e",
            "8117acfd10a749f38e6762c47609f5b7",
            "9f7e249ad46342129619a07cf8c74bb5",
            "f0aab03d1ec8463d89e1f3a15dd7a101",
            "fada3913cd4b4d5fb844dffd6c270047",
            "cd43710349d7472886655ff65f594e55",
            "0572c9c07bd3403583aae6cc0387e9f4",
            "c9a84710bb7f4b35b4dda82c7ee02f96",
            "7d9b8d3b6272459082c3e64eef389ab1",
            "a3b9ca57fcb84288829ebf0c02acdf0f",
            "97a8ab81deb840f3b5e9506ccf41d90f",
            "0ddd68f2de4246e198486da29e29049f",
            "59ed8de867c04aa9bbf7da448f28ec20",
            "a11c82df67f74ddc9805e5841d3d39f9"
          ]
        },
        "id": "vgneA_ahtPlh",
        "outputId": "3e4aeff6-5b8d-411e-96a1-356acadd5d7e"
      },
      "source": [
        "## Load data and model\n",
        "PATH = '/content/drive/MyDrive/data/reuters/siamese_NN.pth'\n",
        "model = DistilBERTClass()\n",
        "model.load_state_dict(torch.load(PATH))\n",
        "model.to(device)\n",
        "model.eval()"
      ],
      "execution_count": 6,
      "outputs": [
        {
          "output_type": "display_data",
          "data": {
            "application/vnd.jupyter.widget-view+json": {
              "model_id": "f629431f686542c196d4889b94ac0742",
              "version_minor": 0,
              "version_major": 2
            },
            "text/plain": [
              "HBox(children=(FloatProgress(value=0.0, description='Downloading', max=442.0, style=ProgressStyle(description_…"
            ]
          },
          "metadata": {
            "tags": []
          }
        },
        {
          "output_type": "stream",
          "text": [
            "\n"
          ],
          "name": "stdout"
        },
        {
          "output_type": "display_data",
          "data": {
            "application/vnd.jupyter.widget-view+json": {
              "model_id": "0572c9c07bd3403583aae6cc0387e9f4",
              "version_minor": 0,
              "version_major": 2
            },
            "text/plain": [
              "HBox(children=(FloatProgress(value=0.0, description='Downloading', max=267967963.0, style=ProgressStyle(descri…"
            ]
          },
          "metadata": {
            "tags": []
          }
        },
        {
          "output_type": "stream",
          "text": [
            "\n"
          ],
          "name": "stdout"
        },
        {
          "output_type": "execute_result",
          "data": {
            "text/plain": [
              "DistilBERTClass(\n",
              "  (l1): DistilBertModel(\n",
              "    (embeddings): Embeddings(\n",
              "      (word_embeddings): Embedding(30522, 768, padding_idx=0)\n",
              "      (position_embeddings): Embedding(512, 768)\n",
              "      (LayerNorm): LayerNorm((768,), eps=1e-12, elementwise_affine=True)\n",
              "      (dropout): Dropout(p=0.1, inplace=False)\n",
              "    )\n",
              "    (transformer): Transformer(\n",
              "      (layer): ModuleList(\n",
              "        (0): TransformerBlock(\n",
              "          (attention): MultiHeadSelfAttention(\n",
              "            (dropout): Dropout(p=0.1, inplace=False)\n",
              "            (q_lin): Linear(in_features=768, out_features=768, bias=True)\n",
              "            (k_lin): Linear(in_features=768, out_features=768, bias=True)\n",
              "            (v_lin): Linear(in_features=768, out_features=768, bias=True)\n",
              "            (out_lin): Linear(in_features=768, out_features=768, bias=True)\n",
              "          )\n",
              "          (sa_layer_norm): LayerNorm((768,), eps=1e-12, elementwise_affine=True)\n",
              "          (ffn): FFN(\n",
              "            (dropout): Dropout(p=0.1, inplace=False)\n",
              "            (lin1): Linear(in_features=768, out_features=3072, bias=True)\n",
              "            (lin2): Linear(in_features=3072, out_features=768, bias=True)\n",
              "          )\n",
              "          (output_layer_norm): LayerNorm((768,), eps=1e-12, elementwise_affine=True)\n",
              "        )\n",
              "        (1): TransformerBlock(\n",
              "          (attention): MultiHeadSelfAttention(\n",
              "            (dropout): Dropout(p=0.1, inplace=False)\n",
              "            (q_lin): Linear(in_features=768, out_features=768, bias=True)\n",
              "            (k_lin): Linear(in_features=768, out_features=768, bias=True)\n",
              "            (v_lin): Linear(in_features=768, out_features=768, bias=True)\n",
              "            (out_lin): Linear(in_features=768, out_features=768, bias=True)\n",
              "          )\n",
              "          (sa_layer_norm): LayerNorm((768,), eps=1e-12, elementwise_affine=True)\n",
              "          (ffn): FFN(\n",
              "            (dropout): Dropout(p=0.1, inplace=False)\n",
              "            (lin1): Linear(in_features=768, out_features=3072, bias=True)\n",
              "            (lin2): Linear(in_features=3072, out_features=768, bias=True)\n",
              "          )\n",
              "          (output_layer_norm): LayerNorm((768,), eps=1e-12, elementwise_affine=True)\n",
              "        )\n",
              "        (2): TransformerBlock(\n",
              "          (attention): MultiHeadSelfAttention(\n",
              "            (dropout): Dropout(p=0.1, inplace=False)\n",
              "            (q_lin): Linear(in_features=768, out_features=768, bias=True)\n",
              "            (k_lin): Linear(in_features=768, out_features=768, bias=True)\n",
              "            (v_lin): Linear(in_features=768, out_features=768, bias=True)\n",
              "            (out_lin): Linear(in_features=768, out_features=768, bias=True)\n",
              "          )\n",
              "          (sa_layer_norm): LayerNorm((768,), eps=1e-12, elementwise_affine=True)\n",
              "          (ffn): FFN(\n",
              "            (dropout): Dropout(p=0.1, inplace=False)\n",
              "            (lin1): Linear(in_features=768, out_features=3072, bias=True)\n",
              "            (lin2): Linear(in_features=3072, out_features=768, bias=True)\n",
              "          )\n",
              "          (output_layer_norm): LayerNorm((768,), eps=1e-12, elementwise_affine=True)\n",
              "        )\n",
              "        (3): TransformerBlock(\n",
              "          (attention): MultiHeadSelfAttention(\n",
              "            (dropout): Dropout(p=0.1, inplace=False)\n",
              "            (q_lin): Linear(in_features=768, out_features=768, bias=True)\n",
              "            (k_lin): Linear(in_features=768, out_features=768, bias=True)\n",
              "            (v_lin): Linear(in_features=768, out_features=768, bias=True)\n",
              "            (out_lin): Linear(in_features=768, out_features=768, bias=True)\n",
              "          )\n",
              "          (sa_layer_norm): LayerNorm((768,), eps=1e-12, elementwise_affine=True)\n",
              "          (ffn): FFN(\n",
              "            (dropout): Dropout(p=0.1, inplace=False)\n",
              "            (lin1): Linear(in_features=768, out_features=3072, bias=True)\n",
              "            (lin2): Linear(in_features=3072, out_features=768, bias=True)\n",
              "          )\n",
              "          (output_layer_norm): LayerNorm((768,), eps=1e-12, elementwise_affine=True)\n",
              "        )\n",
              "        (4): TransformerBlock(\n",
              "          (attention): MultiHeadSelfAttention(\n",
              "            (dropout): Dropout(p=0.1, inplace=False)\n",
              "            (q_lin): Linear(in_features=768, out_features=768, bias=True)\n",
              "            (k_lin): Linear(in_features=768, out_features=768, bias=True)\n",
              "            (v_lin): Linear(in_features=768, out_features=768, bias=True)\n",
              "            (out_lin): Linear(in_features=768, out_features=768, bias=True)\n",
              "          )\n",
              "          (sa_layer_norm): LayerNorm((768,), eps=1e-12, elementwise_affine=True)\n",
              "          (ffn): FFN(\n",
              "            (dropout): Dropout(p=0.1, inplace=False)\n",
              "            (lin1): Linear(in_features=768, out_features=3072, bias=True)\n",
              "            (lin2): Linear(in_features=3072, out_features=768, bias=True)\n",
              "          )\n",
              "          (output_layer_norm): LayerNorm((768,), eps=1e-12, elementwise_affine=True)\n",
              "        )\n",
              "        (5): TransformerBlock(\n",
              "          (attention): MultiHeadSelfAttention(\n",
              "            (dropout): Dropout(p=0.1, inplace=False)\n",
              "            (q_lin): Linear(in_features=768, out_features=768, bias=True)\n",
              "            (k_lin): Linear(in_features=768, out_features=768, bias=True)\n",
              "            (v_lin): Linear(in_features=768, out_features=768, bias=True)\n",
              "            (out_lin): Linear(in_features=768, out_features=768, bias=True)\n",
              "          )\n",
              "          (sa_layer_norm): LayerNorm((768,), eps=1e-12, elementwise_affine=True)\n",
              "          (ffn): FFN(\n",
              "            (dropout): Dropout(p=0.1, inplace=False)\n",
              "            (lin1): Linear(in_features=768, out_features=3072, bias=True)\n",
              "            (lin2): Linear(in_features=3072, out_features=768, bias=True)\n",
              "          )\n",
              "          (output_layer_norm): LayerNorm((768,), eps=1e-12, elementwise_affine=True)\n",
              "        )\n",
              "      )\n",
              "    )\n",
              "  )\n",
              "  (pre_classifier): Linear(in_features=768, out_features=768, bias=True)\n",
              "  (dropout): Dropout(p=0.1, inplace=False)\n",
              "  (classifier): Linear(in_features=768, out_features=256, bias=True)\n",
              ")"
            ]
          },
          "metadata": {
            "tags": []
          },
          "execution_count": 6
        }
      ]
    },
    {
      "cell_type": "markdown",
      "metadata": {
        "id": "Cs9kKll_0FZT"
      },
      "source": [
        "## Test how the similarity function has been worked\n",
        "1/5/2021  \n"
      ]
    },
    {
      "cell_type": "code",
      "metadata": {
        "id": "hwuUZt9svthB"
      },
      "source": [
        "class OneShotLearning(Dataset):\n",
        "    \"\"\"\n",
        "        Input: a dataframe\n",
        "        output: index, ids, mask\n",
        "    \"\"\"\n",
        "    def __init__(self, dataframe, tokenizer, max_len):\n",
        "        self.tokenizer = tokenizer\n",
        "        self.data = dataframe\n",
        "        self.text = dataframe.texts\n",
        "        self.topics = self.data.topics\n",
        "        self.max_len = max_len\n",
        "\n",
        "    def __len__(self):\n",
        "        return len(self.text)\n",
        "\n",
        "    def __getitem__(self, index):\n",
        "        text = str(self.text[index])\n",
        "        text = \" \".join(text.split())\n",
        "\n",
        "        anchor = self.tokenizer.encode_plus(\n",
        "            text,\n",
        "            None,\n",
        "            add_special_tokens=True,\n",
        "            max_length=self.max_len,\n",
        "            pad_to_max_length=True,\n",
        "            return_token_type_ids=True\n",
        "        )\n",
        "\n",
        "        ids = anchor['input_ids']\n",
        "        mask = anchor['attention_mask']\n",
        "        # token_type_ids = anchor[\"token_type_ids\"]\n",
        "\n",
        "\n",
        "        return {\n",
        "            'index':torch.tensor(index, dtype=torch.int),\n",
        "            'ids': torch.tensor(ids, dtype=torch.long),\n",
        "            'mask': torch.tensor(mask, dtype=torch.long)\n",
        "        }\n"
      ],
      "execution_count": 13,
      "outputs": []
    },
    {
      "cell_type": "markdown",
      "metadata": {
        "id": "cmlgW7LLfxfS"
      },
      "source": [
        "## Read data\n",
        "- Commodity -- 67 topics\n",
        "- Currency -- 18 topics"
      ]
    },
    {
      "cell_type": "code",
      "metadata": {
        "colab": {
          "base_uri": "https://localhost:8080/",
          "height": 204
        },
        "id": "HUSwUUGFfwTz",
        "outputId": "a043f2f8-d678-4e76-f0c8-e05cd4039fd2"
      },
      "source": [
        "# Commodity data with 67 categories\n",
        "reuster_support = pd.read_csv('/content/drive/MyDrive/data/reuters/fewshot_support.csv')\n",
        "reuster_test = pd.read_csv('/content/drive/MyDrive/data/reuters/fewshot_test.csv')\n",
        "reuster_support.head()"
      ],
      "execution_count": 7,
      "outputs": [
        {
          "output_type": "execute_result",
          "data": {
            "text/html": [
              "<div>\n",
              "<style scoped>\n",
              "    .dataframe tbody tr th:only-of-type {\n",
              "        vertical-align: middle;\n",
              "    }\n",
              "\n",
              "    .dataframe tbody tr th {\n",
              "        vertical-align: top;\n",
              "    }\n",
              "\n",
              "    .dataframe thead th {\n",
              "        text-align: right;\n",
              "    }\n",
              "</style>\n",
              "<table border=\"1\" class=\"dataframe\">\n",
              "  <thead>\n",
              "    <tr style=\"text-align: right;\">\n",
              "      <th></th>\n",
              "      <th>id</th>\n",
              "      <th>topics</th>\n",
              "      <th>texts</th>\n",
              "    </tr>\n",
              "  </thead>\n",
              "  <tbody>\n",
              "    <tr>\n",
              "      <th>0</th>\n",
              "      <td>4016</td>\n",
              "      <td>iron-steel</td>\n",
              "      <td>usx &lt;x&gt; proved oil, gas reserves fall in 1986u...</td>\n",
              "    </tr>\n",
              "    <tr>\n",
              "      <th>1</th>\n",
              "      <td>4022</td>\n",
              "      <td>carcass</td>\n",
              "      <td>argentine meat exports higher in jan/feb 1987a...</td>\n",
              "    </tr>\n",
              "    <tr>\n",
              "      <th>2</th>\n",
              "      <td>4022</td>\n",
              "      <td>livestock</td>\n",
              "      <td>argentine meat exports higher in jan/feb 1987a...</td>\n",
              "    </tr>\n",
              "    <tr>\n",
              "      <th>3</th>\n",
              "      <td>4035</td>\n",
              "      <td>veg-oil</td>\n",
              "      <td>british minister criticises proposed ec oils t...</td>\n",
              "    </tr>\n",
              "    <tr>\n",
              "      <th>4</th>\n",
              "      <td>4040</td>\n",
              "      <td>oilseed</td>\n",
              "      <td>china's rapeseed crop damaged by stormsthe yie...</td>\n",
              "    </tr>\n",
              "  </tbody>\n",
              "</table>\n",
              "</div>"
            ],
            "text/plain": [
              "     id      topics                                              texts\n",
              "0  4016  iron-steel  usx <x> proved oil, gas reserves fall in 1986u...\n",
              "1  4022     carcass  argentine meat exports higher in jan/feb 1987a...\n",
              "2  4022   livestock  argentine meat exports higher in jan/feb 1987a...\n",
              "3  4035     veg-oil  british minister criticises proposed ec oils t...\n",
              "4  4040     oilseed  china's rapeseed crop damaged by stormsthe yie..."
            ]
          },
          "metadata": {
            "tags": []
          },
          "execution_count": 7
        }
      ]
    },
    {
      "cell_type": "code",
      "metadata": {
        "colab": {
          "base_uri": "https://localhost:8080/"
        },
        "id": "jcTDxioP0TT2",
        "outputId": "59efe458-79db-4867-b982-04382f0bbbe5"
      },
      "source": [
        "print(\"Support Dataset: {}\".format(reuster_support.shape))\n",
        "print(\"Test Dataset: {}\".format(reuster_test.shape))\n",
        "\n",
        "def generate_dataloader(reuster_support,reuster_test):\n",
        "  support_set = OneShotLearning(reuster_support, tokenizer, MAX_LEN)\n",
        "  testing_set = OneShotLearning(reuster_test, tokenizer, MAX_LEN)\n",
        "\n",
        "\n",
        "  SUPPORT_BATCH_SIZE = 1\n",
        "  TEST_BATCH_SIZE = 1\n",
        "\n",
        "  support_params = {'batch_size': SUPPORT_BATCH_SIZE,\n",
        "                  'num_workers': 1\n",
        "                  }\n",
        "\n",
        "  test_params = {'batch_size': TEST_BATCH_SIZE,\n",
        "                  'num_workers': 1\n",
        "                  }\n",
        "\n",
        "  support_loader = DataLoader(support_set, **support_params)\n",
        "  testing_loader = DataLoader(testing_set, **test_params)\n",
        "  return support_loader,testing_loader"
      ],
      "execution_count": 10,
      "outputs": [
        {
          "output_type": "stream",
          "text": [
            "Support Dataset: (67, 3)\n",
            "Test Dataset: (2268, 3)\n"
          ],
          "name": "stdout"
        }
      ]
    },
    {
      "cell_type": "code",
      "metadata": {
        "id": "54W8plc5xwyT"
      },
      "source": [
        "## cosine similarity\n",
        "def cosine_similarity(support,test):\n",
        "  cos = nn.CosineSimilarity(dim=-1, eps=1e-6)\n",
        "  out = cos(support,test)\n",
        "  return out[0]\n",
        "\n",
        "def similar_support(test):\n",
        "  most_similar = 0\n",
        "  most_similar_idx = None\n",
        "  for idx,support in enumerate(support_res):\n",
        "    out = cosine_similarity(support,test)\n",
        "    if out > most_similar:\n",
        "      most_similar = out\n",
        "      most_similar_idx = support_idx[idx]\n",
        "  return most_similar_idx\n",
        "\n"
      ],
      "execution_count": 11,
      "outputs": []
    },
    {
      "cell_type": "code",
      "metadata": {
        "id": "Mg7JVyOWhei9"
      },
      "source": [
        "def support_embedding(support_loader):\n",
        "  # generate support embedding\n",
        "  support_res = []\n",
        "  support_idx = []\n",
        "  with torch.no_grad():\n",
        "    for _,data in tqdm(enumerate(support_loader, 0)):\n",
        "        support_idx.append(data['index'].tolist()[0])\n",
        "        support = {key:data[key].cuda() for key in data}\n",
        "\n",
        "        support_res.extend(model(support).cpu().detach())\n",
        "  return support_res,support_idx\n",
        "\n",
        "def test_embeding(testing_loader):\n",
        "  ## for test set, find argmax\n",
        "  testing_res = []\n",
        "  testing_idx = []\n",
        "  with torch.no_grad():\n",
        "    for _,data in tqdm(enumerate(testing_loader, 0)):\n",
        "      testing_idx.append(data['index'].tolist()[0])\n",
        "      test = {key:data[key].cuda() for key in data}\n",
        "      testing_res.append(model(test).cpu().detach())\n",
        "  return testing_res,testing_idx"
      ],
      "execution_count": 21,
      "outputs": []
    },
    {
      "cell_type": "code",
      "metadata": {
        "id": "tH6Ro9MPlAmH"
      },
      "source": [
        "support_loader,testing_loader = generate_dataloader(reuster_support,reuster_test)\n",
        "support_res,support_idx = support_embedding(support_loader)\n",
        "testing_res,testing_idx = test_embeding(testing_loader)"
      ],
      "execution_count": null,
      "outputs": []
    },
    {
      "cell_type": "code",
      "metadata": {
        "id": "9IY5brufqqzu",
        "colab": {
          "base_uri": "https://localhost:8080/"
        },
        "outputId": "0a7d1e60-ba88-4926-b692-f75b83a2f93b"
      },
      "source": [
        "true_positive = 0\n",
        "with torch.no_grad():\n",
        "  for index, test in tqdm(enumerate(testing_res)):\n",
        "    most_similar_idx = similar_support(test)\n",
        "    \n",
        "    support_topic = reuster_support.iloc[most_similar_idx]['topics']\n",
        "    test_topic = reuster_test.iloc[testing_idx[index]]['topics']\n",
        "    if support_topic == test_topic:\n",
        "      true_positive+=1\n",
        "  # break"
      ],
      "execution_count": 18,
      "outputs": [
        {
          "output_type": "stream",
          "text": [
            "2268it [00:11, 204.75it/s]\n"
          ],
          "name": "stderr"
        }
      ]
    },
    {
      "cell_type": "code",
      "metadata": {
        "colab": {
          "base_uri": "https://localhost:8080/"
        },
        "id": "nEOubPk-W9Zu",
        "outputId": "05c43d9d-0e8b-41b9-c94c-b523fb62ce68"
      },
      "source": [
        "true_positive/len(testing_res)"
      ],
      "execution_count": 19,
      "outputs": [
        {
          "output_type": "execute_result",
          "data": {
            "text/plain": [
              "0.35185185185185186"
            ]
          },
          "metadata": {
            "tags": []
          },
          "execution_count": 19
        }
      ]
    },
    {
      "cell_type": "markdown",
      "metadata": {
        "id": "qvK2UNxqjTk4"
      },
      "source": [
        "### Currency"
      ]
    },
    {
      "cell_type": "code",
      "metadata": {
        "colab": {
          "base_uri": "https://localhost:8080/",
          "height": 204
        },
        "id": "Zzcd81oFqxr5",
        "outputId": "90e0ae54-0ec6-4d6e-cc4c-de7b6a2fa2d6"
      },
      "source": [
        "# currency data with 67 categories\n",
        "reuster_cur_support = pd.read_csv('/content/drive/MyDrive/data/reuters/cur_fewshot_support.csv')\n",
        "reuster_cur_test = pd.read_csv('/content/drive/MyDrive/data/reuters/cur_fewshot_test.csv')\n",
        "reuster_cur_support.head()"
      ],
      "execution_count": 17,
      "outputs": [
        {
          "output_type": "execute_result",
          "data": {
            "text/html": [
              "<div>\n",
              "<style scoped>\n",
              "    .dataframe tbody tr th:only-of-type {\n",
              "        vertical-align: middle;\n",
              "    }\n",
              "\n",
              "    .dataframe tbody tr th {\n",
              "        vertical-align: top;\n",
              "    }\n",
              "\n",
              "    .dataframe thead th {\n",
              "        text-align: right;\n",
              "    }\n",
              "</style>\n",
              "<table border=\"1\" class=\"dataframe\">\n",
              "  <thead>\n",
              "    <tr style=\"text-align: right;\">\n",
              "      <th></th>\n",
              "      <th>id</th>\n",
              "      <th>topics</th>\n",
              "      <th>texts</th>\n",
              "    </tr>\n",
              "  </thead>\n",
              "  <tbody>\n",
              "    <tr>\n",
              "      <th>0</th>\n",
              "      <td>4616</td>\n",
              "      <td>dlr</td>\n",
              "      <td>miyazawa says exchange rates will stay stablef...</td>\n",
              "    </tr>\n",
              "    <tr>\n",
              "      <th>1</th>\n",
              "      <td>4633</td>\n",
              "      <td>yen</td>\n",
              "      <td>japan minister says about 170 yen appropriatei...</td>\n",
              "    </tr>\n",
              "    <tr>\n",
              "      <th>2</th>\n",
              "      <td>10344</td>\n",
              "      <td>dfl</td>\n",
              "      <td>economic spotlight - dutch exchange rate polic...</td>\n",
              "    </tr>\n",
              "    <tr>\n",
              "      <th>3</th>\n",
              "      <td>10636</td>\n",
              "      <td>lit</td>\n",
              "      <td>italy relaxes restrictions on lira importsital...</td>\n",
              "    </tr>\n",
              "    <tr>\n",
              "      <th>4</th>\n",
              "      <td>10718</td>\n",
              "      <td>rupiah</td>\n",
              "      <td>indonesian rupiah slips against mark and yenth...</td>\n",
              "    </tr>\n",
              "  </tbody>\n",
              "</table>\n",
              "</div>"
            ],
            "text/plain": [
              "      id  topics                                              texts\n",
              "0   4616     dlr  miyazawa says exchange rates will stay stablef...\n",
              "1   4633     yen  japan minister says about 170 yen appropriatei...\n",
              "2  10344     dfl  economic spotlight - dutch exchange rate polic...\n",
              "3  10636     lit  italy relaxes restrictions on lira importsital...\n",
              "4  10718  rupiah  indonesian rupiah slips against mark and yenth..."
            ]
          },
          "metadata": {
            "tags": []
          },
          "execution_count": 17
        }
      ]
    },
    {
      "cell_type": "code",
      "metadata": {
        "colab": {
          "base_uri": "https://localhost:8080/"
        },
        "id": "ICDs6AfFX9gC",
        "outputId": "7148b8b0-7057-41f0-e800-190cac67d8a8"
      },
      "source": [
        "support_loader,testing_loader = generate_dataloader(reuster_cur_support,reuster_cur_test)\n",
        "support_res,support_idx = support_embedding(support_loader)\n",
        "testing_res,testing_idx = test_embeding(testing_loader)"
      ],
      "execution_count": 22,
      "outputs": [
        {
          "output_type": "stream",
          "text": [
            "18it [00:00, 55.90it/s]\n",
            "227it [00:02, 82.28it/s]\n"
          ],
          "name": "stderr"
        }
      ]
    },
    {
      "cell_type": "code",
      "metadata": {
        "colab": {
          "base_uri": "https://localhost:8080/"
        },
        "id": "GQdpPgE6X9i4",
        "outputId": "95ca075f-1779-48a8-f084-6a28d5e68a67"
      },
      "source": [
        "true_positive = 0\n",
        "with torch.no_grad():\n",
        "  for index, test in tqdm(enumerate(testing_res)):\n",
        "    most_similar_idx = similar_support(test)\n",
        "    \n",
        "    support_topic = reuster_support.iloc[most_similar_idx]['topics']\n",
        "    test_topic = reuster_test.iloc[testing_idx[index]]['topics']\n",
        "    if support_topic == test_topic:\n",
        "      true_positive+=1"
      ],
      "execution_count": 23,
      "outputs": [
        {
          "output_type": "stream",
          "text": [
            "227it [00:00, 585.80it/s]\n"
          ],
          "name": "stderr"
        }
      ]
    },
    {
      "cell_type": "code",
      "metadata": {
        "colab": {
          "base_uri": "https://localhost:8080/"
        },
        "id": "FnKr9JRbhbiM",
        "outputId": "de19ff00-a060-473f-dad2-59c1d1e75f52"
      },
      "source": [
        "true_positive/len(testing_res)"
      ],
      "execution_count": 27,
      "outputs": [
        {
          "output_type": "execute_result",
          "data": {
            "text/plain": [
              "0.6607929515418502"
            ]
          },
          "metadata": {
            "tags": []
          },
          "execution_count": 27
        }
      ]
    },
    {
      "cell_type": "code",
      "metadata": {
        "id": "-0r_u9zEhblr"
      },
      "source": [
        "\n"
      ],
      "execution_count": 26,
      "outputs": []
    },
    {
      "cell_type": "code",
      "metadata": {
        "id": "cnkALuLjhbo0"
      },
      "source": [
        ""
      ],
      "execution_count": null,
      "outputs": []
    },
    {
      "cell_type": "code",
      "metadata": {
        "id": "ZxkrafrIX9m5"
      },
      "source": [
        ""
      ],
      "execution_count": null,
      "outputs": []
    },
    {
      "cell_type": "code",
      "metadata": {
        "id": "FQJXi03yT8lR"
      },
      "source": [
        "def evaluation(res_anchor,res_positive,res_negative):\n",
        "    pos_dist = F.pairwise_distance(res_anchor, res_positive)\n",
        "    neg_dist = F.pairwise_distance(res_anchor, res_negative)\n",
        "\n",
        "    res = 0\n",
        "    for pos,neg in zip(pos_dist,neg_dist):\n",
        "      # print(pos,neg)\n",
        "      if pos < neg:\n",
        "        res += 1\n",
        "    return res"
      ],
      "execution_count": null,
      "outputs": []
    },
    {
      "cell_type": "code",
      "metadata": {
        "id": "SV25bSuL5R2U"
      },
      "source": [
        "true = 0\n",
        "for _,data in tqdm(enumerate(testing_loader, 0)):\n",
        "    anchor_id = data['anchor']['index']\n",
        "    positive_id = data['positive']['index']\n",
        "    negative_id = data['negative']['index']\n",
        "\n",
        "    anchor = {key:data['anchor'][key].cuda() for key in data['anchor']}\n",
        "    positive = {key:data['positive'][key].cuda() for key in data['positive']}\n",
        "    negative = {key:data['negative'][key].cuda() for key in data['negative']}\n",
        "    res_anchor,res_positive,res_negative = model(anchor),model(positive),model(negative)\n",
        "    # print(1)\n",
        "    true += evaluation(res_anchor,res_positive,res_negative)\n",
        "    if _%10 == 0:\n",
        "      print(true)"
      ],
      "execution_count": null,
      "outputs": []
    },
    {
      "cell_type": "markdown",
      "metadata": {
        "id": "2nCLSIqjYDls"
      },
      "source": [
        "- For support set generates embedding \n",
        "- Compare with the distance with query\n",
        "- Softmax function (optional)\n",
        "- Find topics by argmax"
      ]
    },
    {
      "cell_type": "code",
      "metadata": {
        "id": "4GSY8g0DXvVi"
      },
      "source": [
        ""
      ],
      "execution_count": null,
      "outputs": []
    },
    {
      "cell_type": "code",
      "metadata": {
        "colab": {
          "base_uri": "https://localhost:8080/"
        },
        "id": "VTaFiLO0-RHA",
        "outputId": "7cd59044-b531-42e3-c2f7-8c71b03f4d8b"
      },
      "source": [
        "print(anchor_id)\n",
        "print(positive_id)\n",
        "print(negative_id)"
      ],
      "execution_count": null,
      "outputs": [
        {
          "output_type": "stream",
          "text": [
            "tensor([1321,  609, 1191,   76], dtype=torch.int32)\n",
            "tensor([ 188, 1648, 1993,  125], dtype=torch.int32)\n",
            "tensor([ 558,  691, 1534,  745], dtype=torch.int32)\n"
          ],
          "name": "stdout"
        }
      ]
    },
    {
      "cell_type": "code",
      "metadata": {
        "colab": {
          "base_uri": "https://localhost:8080/",
          "height": 173
        },
        "id": "ZPVPCnAB_SGE",
        "outputId": "bc689034-ebb1-468c-f674-9a641476cc4b"
      },
      "source": [
        "reuster_test.iloc[anchor_id.tolist()]"
      ],
      "execution_count": null,
      "outputs": [
        {
          "output_type": "execute_result",
          "data": {
            "text/html": [
              "<div>\n",
              "<style scoped>\n",
              "    .dataframe tbody tr th:only-of-type {\n",
              "        vertical-align: middle;\n",
              "    }\n",
              "\n",
              "    .dataframe tbody tr th {\n",
              "        vertical-align: top;\n",
              "    }\n",
              "\n",
              "    .dataframe thead th {\n",
              "        text-align: right;\n",
              "    }\n",
              "</style>\n",
              "<table border=\"1\" class=\"dataframe\">\n",
              "  <thead>\n",
              "    <tr style=\"text-align: right;\">\n",
              "      <th></th>\n",
              "      <th>id</th>\n",
              "      <th>topics</th>\n",
              "      <th>texts</th>\n",
              "    </tr>\n",
              "  </thead>\n",
              "  <tbody>\n",
              "    <tr>\n",
              "      <th>1321</th>\n",
              "      <td>2535</td>\n",
              "      <td>grain</td>\n",
              "      <td>argentina-brazil trade jumped 90 pct in 1986tr...</td>\n",
              "    </tr>\n",
              "    <tr>\n",
              "      <th>609</th>\n",
              "      <td>5606</td>\n",
              "      <td>soybean</td>\n",
              "      <td>u.s. export inspections, in thous bushels  soy...</td>\n",
              "    </tr>\n",
              "    <tr>\n",
              "      <th>1191</th>\n",
              "      <td>12802</td>\n",
              "      <td>grain</td>\n",
              "      <td>london grains sees wheat recover from lowsu.k....</td>\n",
              "    </tr>\n",
              "    <tr>\n",
              "      <th>76</th>\n",
              "      <td>4436</td>\n",
              "      <td>veg-oil</td>\n",
              "      <td>argentine vegetable oils shipments in jan/nov ...</td>\n",
              "    </tr>\n",
              "  </tbody>\n",
              "</table>\n",
              "</div>"
            ],
            "text/plain": [
              "         id   topics                                              texts\n",
              "1321   2535    grain  argentina-brazil trade jumped 90 pct in 1986tr...\n",
              "609    5606  soybean  u.s. export inspections, in thous bushels  soy...\n",
              "1191  12802    grain  london grains sees wheat recover from lowsu.k....\n",
              "76     4436  veg-oil  argentine vegetable oils shipments in jan/nov ..."
            ]
          },
          "metadata": {
            "tags": []
          },
          "execution_count": 15
        }
      ]
    },
    {
      "cell_type": "code",
      "metadata": {
        "id": "EaebF_iI_DIe"
      },
      "source": [
        "reuster_test.iloc[positive_id.tolist()]\n",
        "reuster_test.iloc[negative_id.tolist()]\n",
        "\n",
        "pos_dist = F.pairwise_distance(res_anchor, res_positive)\n",
        "neg_dist = F.pairwise_distance(res_anchor, res_negative)"
      ],
      "execution_count": null,
      "outputs": []
    },
    {
      "cell_type": "code",
      "metadata": {
        "colab": {
          "base_uri": "https://localhost:8080/"
        },
        "id": "CRw0_evaVP2e",
        "outputId": "2091ca1a-24c4-48c0-d773-7cd9334dfe69"
      },
      "source": [
        "pos_dist"
      ],
      "execution_count": null,
      "outputs": [
        {
          "output_type": "execute_result",
          "data": {
            "text/plain": [
              "tensor([3.8939, 1.1187, 4.6582, 2.6391], device='cuda:0',\n",
              "       grad_fn=<NormBackward1>)"
            ]
          },
          "metadata": {
            "tags": []
          },
          "execution_count": 23
        }
      ]
    },
    {
      "cell_type": "code",
      "metadata": {
        "colab": {
          "base_uri": "https://localhost:8080/"
        },
        "id": "t77QgvCGVQ7G",
        "outputId": "71626f1f-feea-4b3b-c3d0-2ba3222caceb"
      },
      "source": [
        "neg_dist"
      ],
      "execution_count": null,
      "outputs": [
        {
          "output_type": "execute_result",
          "data": {
            "text/plain": [
              "tensor([5.0758, 5.5659, 4.2740, 3.1108], device='cuda:0',\n",
              "       grad_fn=<NormBackward1>)"
            ]
          },
          "metadata": {
            "tags": []
          },
          "execution_count": 24
        }
      ]
    },
    {
      "cell_type": "code",
      "metadata": {
        "id": "FLkGx9mfRD5f"
      },
      "source": [
        ""
      ],
      "execution_count": null,
      "outputs": []
    },
    {
      "cell_type": "code",
      "metadata": {
        "id": "li6_MnGdRD99"
      },
      "source": [
        ""
      ],
      "execution_count": null,
      "outputs": []
    },
    {
      "cell_type": "code",
      "metadata": {
        "id": "pK4o-RpiREFu"
      },
      "source": [
        ""
      ],
      "execution_count": null,
      "outputs": []
    },
    {
      "cell_type": "code",
      "metadata": {
        "id": "DfflLWfEREKw"
      },
      "source": [
        ""
      ],
      "execution_count": null,
      "outputs": []
    },
    {
      "cell_type": "code",
      "metadata": {
        "id": "ZQFkck3SREQv"
      },
      "source": [
        ""
      ],
      "execution_count": null,
      "outputs": []
    },
    {
      "cell_type": "code",
      "metadata": {
        "id": "ENUPo6dfREWm"
      },
      "source": [
        ""
      ],
      "execution_count": null,
      "outputs": []
    }
  ]
}